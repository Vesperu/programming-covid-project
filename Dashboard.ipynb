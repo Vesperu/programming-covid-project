{
 "cells": [
  {
   "cell_type": "markdown",
   "metadata": {},
   "source": [
    "# DIY Covid-19 Dashboard\n"
   ]
  },
  {
   "cell_type": "code",
   "execution_count": 77,
   "metadata": {},
   "outputs": [],
   "source": [
    "#libraries required and imported for the following code\n",
    "import ipywidgets as wdg\n",
    "import pandas as pd\n",
    "import numpy as np\n",
    "import matplotlib.pyplot as plt\n",
    "import json\n",
    "from uk_covid19 import Cov19API"
   ]
  },
  {
   "cell_type": "code",
   "execution_count": 78,
   "metadata": {},
   "outputs": [],
   "source": [
    "%matplotlib inline\n",
    "# make figures larger\n",
    "plt.rcParams['figure.dpi'] = 100"
   ]
  },
  {
   "cell_type": "code",
   "execution_count": 79,
   "metadata": {},
   "outputs": [],
   "source": [
    "#allocating the file name a variable name for clarity and ease of repetitive use\n",
    "filekey=\"admissionbeds\""
   ]
  },
  {
   "cell_type": "code",
   "execution_count": 80,
   "metadata": {},
   "outputs": [],
   "source": [
    "#function to access the data from the json file\n",
    "def access_json_file():\n",
    "    \n",
    "    with open(filekey + \".json\", \"rt\") as INFILE:\n",
    "        jsondata=json.load(INFILE)\n",
    "        \n",
    "    return jsondata\n"
   ]
  },
  {
   "cell_type": "code",
   "execution_count": 81,
   "metadata": {},
   "outputs": [],
   "source": [
    "\n",
    "jsondata = access_json_file()\n"
   ]
  },
  {
   "cell_type": "code",
   "execution_count": 82,
   "metadata": {},
   "outputs": [],
   "source": [
    "# converts the date string to datetime instances using pandas\n",
    "def parse_date(datestring):\n",
    "    return pd.to_datetime(datestring, format=\"%Y-%m-%d\")\n",
    "#wrangling api data\n",
    "def wrangle_data(rawdata, type, printlogs):\n",
    "    datalist=rawdata['data']\n",
    "#sorting dates from rawdata taken from the api \n",
    "    dates=[dictionary[\"date\"] for dictionary in datalist]\n",
    "    dates.sort()\n",
    "#checking if there are duplicate dates\n",
    "    numberofuniquedates=len(set(dates))\n",
    "    numberofdates=len(dates)\n",
    "    aredatesunique=numberofdates==numberofuniquedates\n",
    "   \n",
    "#showing the date range we wanted listed in the dataframe\n",
    "    startdate=parse_date(dates[0])\n",
    "    enddate=parse_date(dates[-1])\n",
    "    if printlogs==True:\n",
    "        print(\"total number of dates\", numberofdates, \"total number of unique dates\", numberofuniquedates, \"on refresh this will fetch new data from the api\")\n",
    "        print(\" are dates unique =\", aredatesunique)\n",
    "        print(startdate, \" to \", enddate) \n",
    "#creating the dataframe, specifying, daily increment, from startdate to enddate and titling the columns (type referring to the users chosen comparison)\n",
    "    index=pd.date_range(startdate, enddate, freq=\"D\")\n",
    "    admissionbedsdf=pd.DataFrame(index=index, columns=[type, \"vbo\"])\n",
    "\n",
    "#adding the data to the columns of the dataframe\n",
    "    for entry in datalist:\n",
    "        date=parse_date(entry[\"date\"])\n",
    "        for column in [type, \"vbo\"]:\n",
    "            if pd.isna(admissionbedsdf.loc[date, column]):\n",
    "                value= float(entry[column]) if entry [column]!=None else 0.0\n",
    "                admissionbedsdf.loc[date, column]=value\n",
    "#fill in any entries due to missing dates \n",
    "    admissionbedsdf.fillna(0.0, inplace=True)\n",
    "    return admissionbedsdf\n",
    "\n",
    "#feeds data from the json file in to be wrangled\n",
    "df=wrangle_data(jsondata, \"admissions\", False)"
   ]
  },
  {
   "cell_type": "markdown",
   "metadata": {},
   "source": [
    "### Graph displaying admissions vs ventilator bed occupancy or cases vs ventilator bed occupancy"
   ]
  },
  {
   "cell_type": "code",
   "execution_count": 83,
   "metadata": {},
   "outputs": [],
   "source": [
    "# fetching data from the api and adding it the json file\n",
    "def access_api():\n",
    "    \n",
    "    filters = ['areaType=overview']\n",
    "\n",
    "    structure = {\n",
    "        \"date\" : \"date\",\n",
    "        \"admissions\" : \"newAdmissions\",\n",
    "        \"vbo\" : \"covidOccupiedMVBeds\",\n",
    "        \"cases\" : \"newCasesByPublishDate\",\n",
    "    }\n",
    "\n",
    "\n",
    "    api = Cov19API(filters=filters, structure=structure)\n",
    "\n",
    "    admissionbeds=api.get_json()\n",
    "    return admissionbeds"
   ]
  },
  {
   "cell_type": "code",
   "execution_count": 84,
   "metadata": {},
   "outputs": [],
   "source": [
    "def refresh_json_file():\n",
    "    \n",
    "    data=access_api()\n",
    "    \n",
    "    with open(filekey + \".json\", \"wt\") as OUTF:\n",
    "        json.dump(data, OUTF)\n",
    "        \n",
    "\n"
   ]
  },
  {
   "cell_type": "code",
   "execution_count": 85,
   "metadata": {},
   "outputs": [
    {
     "data": {
      "application/vnd.jupyter.widget-view+json": {
       "model_id": "387c31b92b3346ec8503b792e27418e1",
       "version_major": 2,
       "version_minor": 0
      },
      "text/plain": [
       "Button(button_style='info', description='Refresh', icon='refresh', style=ButtonStyle(), tooltip='refresh graph…"
      ]
     },
     "metadata": {},
     "output_type": "display_data"
    }
   ],
   "source": [
    "\n",
    "def api_button_callback(button):\n",
    "#declaring jsondata as a global variable to be used else where   \n",
    "    global jsondata\n",
    "    jsondata=access_api()\n",
    "#declaring df as a global variable to be used else where  \n",
    "    global df\n",
    "    \n",
    "    refresh_graph()\n",
    "#changing button icon once pressed  \n",
    "#apibutton.icon=\"check\"\n",
    "\n",
    "#button appearance    \n",
    "apibutton=wdg.Button(\n",
    "    description='Refresh', \n",
    "    disabled=False,\n",
    "    button_style='info', \n",
    "    tooltip=\"refresh graph\",\n",
    "    icon='refresh'\n",
    ")\n",
    "\n",
    "# remember to register your button callback function with the button\n",
    "apibutton.on_click(api_button_callback) # the name of your function inside these brackets\n",
    "\n",
    "display(apibutton)\n",
    "\n",
    "# run all cells before clicking on this button"
   ]
  },
  {
   "cell_type": "code",
   "execution_count": 86,
   "metadata": {},
   "outputs": [
    {
     "data": {
      "application/vnd.jupyter.widget-view+json": {
       "model_id": "8d7691720863460cb8a4985345258585",
       "version_major": 2,
       "version_minor": 0
      },
      "text/plain": [
       "Dropdown(description='compare', options=('admissions', 'cases'), value='admissions')"
      ]
     },
     "metadata": {},
     "output_type": "display_data"
    },
    {
     "data": {
      "application/vnd.jupyter.widget-view+json": {
       "model_id": "633c4f7562584b689a56ccdb26109306",
       "version_major": 2,
       "version_minor": 0
      },
      "text/plain": [
       "Output()"
      ]
     },
     "metadata": {},
     "output_type": "display_data"
    }
   ],
   "source": [
    "   \n",
    "def plot_graph(type):\n",
    "    \n",
    "    df=wrangle_data(jsondata, type, True)\n",
    "  \n",
    "    df.plot()\n",
    "\n",
    "#drop down menu to select comparison\n",
    "typeselect=wdg.Dropdown(\n",
    "    options=[\"admissions\", \"cases\"],\n",
    "    value=\"admissions\",\n",
    "    description= \"compare\",\n",
    "    disabled=False\n",
    ")    \n",
    "\n",
    "\n",
    "#function to force the redraw of the graph with updated data\n",
    "def refresh_graph():\n",
    "  \n",
    "    current=typeselect.value\n",
    "    if current==typeselect.options[0]:\n",
    "        other=typeselect.options[1]\n",
    "    else:\n",
    "        other=typeselect.options[0]\n",
    "    typeselect.value=other \n",
    "    typeselect.value=current \n",
    "    \n",
    "\n",
    "\n",
    "graph=wdg.interactive_output(plot_graph, {\"type\" : typeselect}) \n",
    "\n",
    "display(typeselect, graph)\n",
    "       "
   ]
  },
  {
   "cell_type": "code",
   "execution_count": null,
   "metadata": {},
   "outputs": [],
   "source": []
  },
  {
   "cell_type": "code",
   "execution_count": null,
   "metadata": {},
   "outputs": [],
   "source": []
  },
  {
   "cell_type": "code",
   "execution_count": null,
   "metadata": {},
   "outputs": [],
   "source": []
  }
 ],
 "metadata": {
  "kernelspec": {
   "display_name": "Python 3",
   "language": "python",
   "name": "python3"
  },
  "language_info": {
   "codemirror_mode": {
    "name": "ipython",
    "version": 3
   },
   "file_extension": ".py",
   "mimetype": "text/x-python",
   "name": "python",
   "nbconvert_exporter": "python",
   "pygments_lexer": "ipython3",
   "version": "3.8.5"
  }
 },
 "nbformat": 4,
 "nbformat_minor": 4
}
